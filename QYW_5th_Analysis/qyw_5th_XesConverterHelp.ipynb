{
 "cells": [
  {
   "cell_type": "code",
   "execution_count": 2,
   "metadata": {
    "collapsed": true
   },
   "outputs": [],
   "source": [
    "import pandas as pd, numpy as np, matplotlib.pylab as plt\n",
    "import MySQLdb"
   ]
  },
  {
   "cell_type": "code",
   "execution_count": 3,
   "metadata": {
    "collapsed": true
   },
   "outputs": [],
   "source": [
    "# Open database connection\n",
    "conn = MySQLdb.connect(host='localhost',user='root',passwd='',db='qyw', charset='utf8')"
   ]
  },
  {
   "cell_type": "code",
   "execution_count": 4,
   "metadata": {
    "collapsed": true
   },
   "outputs": [],
   "source": [
    "user_visits = pd.read_sql('''\n",
    "    SELECT USER_ID, OPERATE_TIME, PAGE_NAME, ELEMENT_NAME FROM qyw.qyw_5th_visit ORDER BY USER_ID, OPERATE_TIME;\n",
    "    ''', con=conn)\n",
    "user_visits.insert(0, 'CASE_ID','')"
   ]
  },
  {
   "cell_type": "code",
   "execution_count": 31,
   "metadata": {
    "collapsed": false
   },
   "outputs": [],
   "source": [
    "import datetime\n",
    "unique_users = user_visits['USER_ID'].unique()\n",
    "for user_id in unique_users:\n",
    "    single_user_visits = user_visits[user_visits['USER_ID'] == user_id].sort_values(['OPERATE_TIME'],0,[True])\n",
    "    size = len(single_user_visits.index)\n",
    "    start = single_user_visits.index[0]\n",
    "    date = None\n",
    "    cid = 0\n",
    "    for index, row in single_user_visits.iterrows():\n",
    "        start_operate_time = row['OPERATE_TIME']\n",
    "        cur_date = start_operate_time.strftime('%Y-%m-%d')\n",
    "        if not date:\n",
    "            date = cur_date\n",
    "        end_operate_time = start_operate_time\n",
    "        next_date = cur_date\n",
    "        if index < start+size-1:\n",
    "            end_operate_time = single_user_visits.loc[index+1, 'OPERATE_TIME']\n",
    "            next_date = end_operate_time.strftime('%Y-%m-%d')\n",
    "        interval = end_operate_time - start_operate_time\n",
    "        interval_secs = interval.total_seconds()\n",
    "        case_id = str(row['USER_ID'])+'@'+date+'_'+str(cid)\n",
    "        single_user_visits.ix[index, 'CASE_ID'] = case_id\n",
    "        if interval_secs > 5*60:\n",
    "            if date != next_date:\n",
    "                cid = 0\n",
    "                date = next_date\n",
    "            else:\n",
    "                cid += 1\n",
    "    single_user_visits.to_sql('qyw_5th_event', conn, flavor='mysql', if_exists='append', index=False)"
   ]
  },
  {
   "cell_type": "code",
   "execution_count": null,
   "metadata": {
    "collapsed": false
   },
   "outputs": [],
   "source": [
    "# single_user_visits = user_visits.ix[0:3,:]\n",
    "# single_user_visits.iloc[0,0] = 1\n",
    "# single_user_visits == user_visits.ix[0:3,:]\n",
    "# user_visits\n",
    "# single_user_idx = (user_visits['USER_ID'] == 27846) & (user_visits['PAGE_NAME'] == u'首页')\n",
    "# single_user_visits = user_visits.ix[single_user_idx]\n",
    "# single_user_visits.ix[0,0] = 'abc'\n",
    "# single_user_visits == user_visits.ix[single_user_idx]"
   ]
  },
  {
   "cell_type": "code",
   "execution_count": null,
   "metadata": {
    "collapsed": false
   },
   "outputs": [],
   "source": [
    "foo = pd.DataFrame(np.random.random((13000,5)))\n",
    "bar = foo.iloc[0:3,0:5]\n",
    "bar.ix[0,0] = 0\n",
    "foo\n",
    "# bar == foo.iloc[3:5,1:4]"
   ]
  },
  {
   "cell_type": "code",
   "execution_count": null,
   "metadata": {
    "collapsed": false
   },
   "outputs": [],
   "source": []
  },
  {
   "cell_type": "code",
   "execution_count": null,
   "metadata": {
    "collapsed": true
   },
   "outputs": [],
   "source": []
  }
 ],
 "metadata": {
  "kernelspec": {
   "display_name": "Python 2",
   "language": "python",
   "name": "python2"
  },
  "language_info": {
   "codemirror_mode": {
    "name": "ipython",
    "version": 2
   },
   "file_extension": ".py",
   "mimetype": "text/x-python",
   "name": "python",
   "nbconvert_exporter": "python",
   "pygments_lexer": "ipython2",
   "version": "2.7.10"
  }
 },
 "nbformat": 4,
 "nbformat_minor": 0
}
