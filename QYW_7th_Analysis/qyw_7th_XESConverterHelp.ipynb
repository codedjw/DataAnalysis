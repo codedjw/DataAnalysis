{
 "cells": [
  {
   "cell_type": "code",
   "execution_count": null,
   "metadata": {
    "collapsed": true
   },
   "outputs": [],
   "source": [
    "import pandas as pd, numpy as np, matplotlib.pylab as plt\n",
    "import MySQLdb"
   ]
  },
  {
   "cell_type": "code",
   "execution_count": null,
   "metadata": {
    "collapsed": true
   },
   "outputs": [],
   "source": [
    "# Open database connection\n",
    "conn = MySQLdb.connect(host='localhost',user='root',passwd='',db='qyw', charset='utf8')"
   ]
  },
  {
   "cell_type": "code",
   "execution_count": null,
   "metadata": {
    "collapsed": true
   },
   "outputs": [],
   "source": [
    "user_visits = pd.read_sql('''\n",
    "    SELECT * FROM qyw_7th_visit_mean;\n",
    "    ''', con=conn)\n",
    "user_visits.insert(0, 'CASE_ID','')"
   ]
  },
  {
   "cell_type": "code",
   "execution_count": null,
   "metadata": {
    "collapsed": false
   },
   "outputs": [],
   "source": [
    "# 执行5min左右\n",
    "import datetime\n",
    "unique_users = user_visits['USER_ID'].unique()\n",
    "for user_id in unique_users:\n",
    "    # 一定要选择mergesort，这样才是稳定的（VISIT_TIME相同的行的index保证原有顺序）\n",
    "    single_user_visits = user_visits[user_visits['USER_ID'] == user_id].sort_values(by=['VISIT_TIME'],ascending=[True],kind='mergesort')\n",
    "    # 一定要更新index，否则index+1不对（因为sort_values有可能调换各行的顺序）\n",
    "    single_user_visits.index = range(0,len(single_user_visits.index))\n",
    "    size = len(single_user_visits.index)\n",
    "    start = single_user_visits.index[0]\n",
    "    date = None\n",
    "    cid = 0\n",
    "    for index, row in single_user_visits.iterrows():\n",
    "        start_operate_time = row['VISIT_TIME']\n",
    "        cur_date = start_operate_time.strftime('%Y-%m-%d')\n",
    "        if not date:\n",
    "            date = cur_date\n",
    "        end_operate_time = start_operate_time\n",
    "        next_date = cur_date\n",
    "        if index < start+size-1:\n",
    "            end_operate_time = single_user_visits.loc[index+1, 'VISIT_TIME']\n",
    "            next_date = end_operate_time.strftime('%Y-%m-%d')\n",
    "        interval = end_operate_time - start_operate_time\n",
    "        interval_secs = interval.total_seconds()\n",
    "        case_id = str(row['USER_ID'])+'@'+date+'_'+str(cid)\n",
    "        single_user_visits.ix[index, 'CASE_ID'] = case_id\n",
    "        if interval_secs > 5*60:\n",
    "            if date != next_date:\n",
    "                cid = 0\n",
    "                date = next_date\n",
    "            else:\n",
    "                cid += 1\n",
    "    single_user_visits.to_sql('qyw_7th_event', conn, flavor='mysql', if_exists='append', index=False)"
   ]
  },
  {
   "cell_type": "code",
   "execution_count": null,
   "metadata": {
    "collapsed": false
   },
   "outputs": [],
   "source": [
    "user_visits"
   ]
  },
  {
   "cell_type": "code",
   "execution_count": null,
   "metadata": {
    "collapsed": false
   },
   "outputs": [],
   "source": [
    "single_user_visits"
   ]
  },
  {
   "cell_type": "code",
   "execution_count": null,
   "metadata": {
    "collapsed": true
   },
   "outputs": [],
   "source": []
  }
 ],
 "metadata": {
  "kernelspec": {
   "display_name": "Python 2",
   "language": "python",
   "name": "python2"
  },
  "language_info": {
   "codemirror_mode": {
    "name": "ipython",
    "version": 2
   },
   "file_extension": ".py",
   "mimetype": "text/x-python",
   "name": "python",
   "nbconvert_exporter": "python",
   "pygments_lexer": "ipython2",
   "version": "2.7.10"
  }
 },
 "nbformat": 4,
 "nbformat_minor": 0
}
