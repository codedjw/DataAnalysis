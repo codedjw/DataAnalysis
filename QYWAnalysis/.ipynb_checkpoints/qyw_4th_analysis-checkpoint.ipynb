{
 "cells": [
  {
   "cell_type": "code",
   "execution_count": 1,
   "metadata": {
    "collapsed": false
   },
   "outputs": [],
   "source": [
    "import matplotlib.pylab as plt, pandas as pd, MySQLdb\n",
    "from matplotlib import font_manager\n",
    "myFont = font_manager.FontProperties(fname='/Library/Fonts/Songti.ttc')\n",
    "titleSize = 14\n",
    "tipSize = 12"
   ]
  },
  {
   "cell_type": "code",
   "execution_count": 2,
   "metadata": {
    "collapsed": true
   },
   "outputs": [],
   "source": [
    "conn = MySQLdb.connect(host='localhost',user='root',passwd='',db='qyw', charset='utf8')"
   ]
  },
  {
   "cell_type": "code",
   "execution_count": null,
   "metadata": {
    "collapsed": false
   },
   "outputs": [],
   "source": [
    "df = pd.read_sql('''\n",
    "    SELECT PROVINCE, CITY, COUNT(DISTINCT USER_ID) AS USER_CNT FROM (SELECT * FROM (SELECT * FROM qyw.qyw_4th_visit WHERE USER_ID > 0 AND HOSPITAL_ID = 270001 ORDER BY USER_ID) AS t1 INNER JOIN (SELECT USER_ID AS CUS_ID, PROVINCE, CITY, BIRTHDAY, GENDER, REGISTER_DATE FROM qyw.qyw_4th_user ORDER BY CUS_ID) AS t2 ON t1.USER_ID = t2.CUS_ID) AS t3 WHERE PROVINCE IS NOT null AND CITY IS NOT null GROUP BY PROVINCE, CITY ORDER BY USER_CNT DESC;\n",
    "    ''', con=conn)"
   ]
  },
  {
   "cell_type": "code",
   "execution_count": null,
   "metadata": {
    "collapsed": true
   },
   "outputs": [],
   "source": [
    "province_city_cnt = pd.Series(df['USER_CNT'].values, index=df['PROVINCE']+' '+df['CITY'], name='用户地域分布')"
   ]
  },
  {
   "cell_type": "code",
   "execution_count": null,
   "metadata": {
    "collapsed": false
   },
   "outputs": [],
   "source": [
    "fig = plt.figure(dpi=100, figsize=(8,8))\n",
    "# first axes\n",
    "ax1 = fig.add_axes([0.1, 0.1, 0.8, 0.8])\n",
    "patches, texts, autotexts = ax1.pie(province_city_cnt[1:11], labels=province_city_cnt[1:11].index, autopct='%1.1f%%', colors=['yellowgreen', 'gold', 'lightskyblue', 'lightcoral'])\n",
    "plt.setp(autotexts, fontproperties=myFont, size=tipSize)\n",
    "plt.setp(texts, fontproperties=myFont, size=tipSize)\n",
    "ax1.set_title(u'用户地域分布（第二位至第十一位）',fontproperties=myFont, size=titleSize)\n",
    "ax1.set_aspect(1)\n",
    "plt.show()"
   ]
  },
  {
   "cell_type": "code",
   "execution_count": null,
   "metadata": {
    "collapsed": true
   },
   "outputs": [],
   "source": [
    "df_all = pd.read_sql('''\n",
    "SELECT HOSPITAL_ID, PROVINCE, CITY, COUNT(DISTINCT USER_ID) AS USER_CNT FROM (SELECT * FROM (SELECT * FROM qyw.qyw_4th_visit WHERE USER_ID > 0 ORDER BY USER_ID) AS t1 INNER JOIN (SELECT USER_ID AS CUS_ID, PROVINCE, CITY, BIRTHDAY, GENDER, REGISTER_DATE FROM qyw.qyw_4th_user ORDER BY CUS_ID) AS t2 ON t1.USER_ID = t2.CUS_ID) AS t3 WHERE PROVINCE IS NOT null AND CITY IS NOT null GROUP BY HOSPITAL_ID, PROVINCE, CITY ORDER BY HOSPITAL_ID, USER_CNT DESC;\n",
    "''', con=conn)"
   ]
  },
  {
   "cell_type": "code",
   "execution_count": null,
   "metadata": {
    "collapsed": false
   },
   "outputs": [],
   "source": [
    "pd.DataFrame(df_all.groupby(['PROVINCE', 'CITY'])['USER_CNT'].sum()).reset_index().sort_values(['USER_CNT'],0,[False])"
   ]
  },
  {
   "cell_type": "code",
   "execution_count": null,
   "metadata": {
    "collapsed": false
   },
   "outputs": [],
   "source": [
    "df_new = df_all.groupby(['HOSPITAL_ID','PROVINCE'])['USER_CNT'].sum().reset_index().sort_values(['PROVINCE','HOSPITAL_ID'],0,[True, False])\n",
    "df_new = pd.merge(df_new[df_new['PROVINCE']!=u'安徽'], df_new[df_new['PROVINCE']!=u'湖北'])\n",
    "# useless below\n",
    "# array_province = df_new['PROVINCE'].drop_duplicates().values\n",
    "# hospitals = [{270001:u'武汉市中心医院'}, {5510002:u'安徽省中医院'}]\n",
    "# hos_cnts = {270001:[], 5510002:[]}\n",
    "# for hospital in hospitals:\n",
    "#     for hid, hname in hospital.items():\n",
    "#         for province in array_province:\n",
    "#             if df_new[df_new['HOSPITAL_ID']==hid]['PROVINCE'] == None:\n",
    "#                 hos_cnts[hid].append(0)\n",
    "#             else:\n",
    "#                 hos_cnts[hid].append(df_new[df_new['HOSPITAL_ID']==hid]['PROVINCE'])\n",
    "# print hos_cnts\n",
    "# useless above\n",
    "df_new_pivot = df_new.pivot('PROVINCE', 'HOSPITAL_ID', 'USER_CNT') # equal to above\n",
    "df_new_pivot = df_new_pivot.fillna(0)\n",
    "\n",
    "import numpy as np\n",
    "import matplotlib.pyplot as plt\n",
    "\n",
    "\n",
    "n_groups = df_new_pivot.index.size\n",
    "\n",
    "hid_270001 = df_new_pivot[270001]\n",
    "\n",
    "hid_5510002 = df_new_pivot[5510002]\n",
    "\n",
    "fig, ax = plt.subplots(dpi=100, figsize=(14,8))\n",
    "\n",
    "index = np.arange(n_groups)\n",
    "bar_width = 0.35\n",
    "\n",
    "opacity = 0.4\n",
    "error_config = {'ecolor': '0.3'}\n",
    "\n",
    "rects1 = plt.bar(index, hid_270001, bar_width,\n",
    "                 alpha=opacity,\n",
    "                 color='b',\n",
    "                 error_kw=error_config,\n",
    "                 label=u'武汉市中心医院')\n",
    "    \n",
    "rects2 = plt.bar(index + bar_width, hid_5510002, bar_width,\n",
    "                 alpha=opacity,\n",
    "                 color='r',\n",
    "                 error_kw=error_config,\n",
    "                 label=u'安徽省中医院')\n",
    "\n",
    "plt.xlabel(u'省份', fontproperties=myFont, size=titleSize)\n",
    "plt.ylabel(u'用户数量', fontproperties=myFont, size=titleSize)\n",
    "plt.title(u'用户地域分布', fontproperties=myFont, size=titleSize)\n",
    "plt.xticks(index + bar_width, df_new_pivot.index, fontproperties=myFont, size=tipSize)\n",
    "plt.legend(prop=font_manager.FontProperties(fname='/Library/Fonts/Songti.ttc', size=tipSize))\n",
    "\n",
    "def autolabel(rects):\n",
    "    # attach some text labels\n",
    "    for rect in rects:\n",
    "        height = rect.get_height()\n",
    "        ax.text(rect.get_x() + rect.get_width()/2., 1.005*height,\n",
    "                '%d' % int(height),\n",
    "                ha='center', va='bottom', fontproperties=myFont, size=tipSize)\n",
    "\n",
    "autolabel(rects1)\n",
    "autolabel(rects2)\n",
    "\n",
    "plt.tight_layout()\n",
    "plt.show()"
   ]
  },
  {
   "cell_type": "code",
   "execution_count": null,
   "metadata": {
    "collapsed": true
   },
   "outputs": [],
   "source": [
    "df_mhs = pd.read_sql('''\n",
    "    SELECT CONCAT_WS(':',SUBSTRING_INDEX(SUBSTRING_INDEX(VISIT_TIME,' ',-1),':',2),'00') AS VISIT_TIME, COUNT(*) AS OP_CNT FROM qyw.qyw_4th_visit GROUP BY SUBSTRING_INDEX(SUBSTRING_INDEX(VISIT_TIME,' ',-1),':',2) ORDER BY VISIT_TIME;\n",
    "    ''', con=conn)"
   ]
  },
  {
   "cell_type": "code",
   "execution_count": null,
   "metadata": {
    "collapsed": false
   },
   "outputs": [],
   "source": [
    "df_mhs_series = pd.Series(df_mhs['OP_CNT'].values/7, index=df_mhs['VISIT_TIME'], name=u'日均操作时间分布')\n",
    "df_mhs_series.index.name = u'操作时间'\n",
    "ax = df_mhs_series.plot(figsize=(14,8))\n",
    "for label in ax.get_xticklabels(): #xtick\n",
    "    label.set_fontproperties(myFont)\n",
    "for label in ax.get_yticklabels(): #ytick\n",
    "    label.set_fontproperties(myFont)\n",
    "for label in ax.get_label(): # legend\n",
    "    label.set_fontproperties(myFont)\n",
    "ax.set_title(df_mhs_series.name, fontproperties=myFont, size=titleSize)\n",
    "ax.set_xlabel(df_mhs_series.index.name, fontproperties=myFont, size=tipSize)\n",
    "ax.set_ylabel(u'操作数量', fontproperties=myFont, size=tipSize)\n",
    "plt.show()"
   ]
  },
  {
   "cell_type": "code",
   "execution_count": null,
   "metadata": {
    "collapsed": false
   },
   "outputs": [],
   "source": [
    "'a' in 'abc'"
   ]
  },
  {
   "cell_type": "code",
   "execution_count": 66,
   "metadata": {
    "collapsed": true
   },
   "outputs": [],
   "source": [
    "df_amount = pd.read_sql('''SELECT t1.USER_ID, t1.VISIT_TIME, t2.MEANS, COUNT(*) AS VISIT_CNT, AVG(AMOUNT) AS AVG FROM qyw.qyw_4th_visit_pay_base AS t1 INNER JOIN (SELECT VISIT_OP, GROUP_CONCAT(MEAN) AS MEANS, GROUP_CONCAT(CATEGORY) AS CATEGORIES, COUNT(*) FROM qyw.qyw_4th_business_dict GROUP BY VISIT_OP) AS t2 ON t1.VISIT_OP=t2.VISIT_OP GROUP BY t1.USER_ID, t1.VISIT_TIME, t1.VISIT_OP ORDER BY t1.USER_ID, t1.VISIT_TIME;\n",
    "''', con=conn)"
   ]
  },
  {
   "cell_type": "code",
   "execution_count": 67,
   "metadata": {
    "collapsed": false
   },
   "outputs": [
    {
     "data": {
      "text/plain": [
       "USER_ID\n",
       "9849094     8557.0\n",
       "10417868    1633.0\n",
       "10089884    1610.0\n",
       "10488136    1449.0\n",
       "10351794    1449.0\n",
       "9937656     1400.0\n",
       "10159311    1326.0\n",
       "10308251    1189.0\n",
       "10543734    1104.0\n",
       "10171310    1081.0\n",
       "10552294    1035.0\n",
       "9349218      900.0\n",
       "9872554      892.0\n",
       "9939516      805.0\n",
       "9984627      800.0\n",
       "10495628     759.0\n",
       "10140388     736.0\n",
       "10079539     713.0\n",
       "9796497      667.0\n",
       "9559824      667.0\n",
       "10359395     621.0\n",
       "10272004     600.0\n",
       "9691857      600.0\n",
       "10252837     575.0\n",
       "10006526     575.0\n",
       "10009341     573.0\n",
       "10041526     523.0\n",
       "9852359      506.0\n",
       "10249374     506.0\n",
       "10500386     500.0\n",
       "             ...  \n",
       "10502067       6.5\n",
       "9797761        5.5\n",
       "10551442       4.5\n",
       "8644840        4.5\n",
       "7782749        4.5\n",
       "7431374        4.5\n",
       "10359798       4.5\n",
       "10535921       4.5\n",
       "10482822       4.5\n",
       "9743487        4.5\n",
       "7048301        4.5\n",
       "9652443        4.5\n",
       "10569902       4.5\n",
       "8114726        4.5\n",
       "10034941       4.5\n",
       "7799930        4.5\n",
       "10137797       4.5\n",
       "9473712        4.5\n",
       "10537253       4.5\n",
       "10556790       4.5\n",
       "7852554        4.5\n",
       "8368178        4.5\n",
       "10524984       4.5\n",
       "10507076       4.5\n",
       "7691078        4.5\n",
       "6938455        4.5\n",
       "10319795       4.5\n",
       "10268970       4.5\n",
       "8485752        4.5\n",
       "8187031        4.5\n",
       "Name: AVG, dtype: float64"
      ]
     },
     "execution_count": 67,
     "metadata": {},
     "output_type": "execute_result"
    }
   ],
   "source": [
    "grouped = df_amount.groupby(['USER_ID'])['AVG'].sum()\n",
    "grouped.sort_values(ascending=False)"
   ]
  },
  {
   "cell_type": "code",
   "execution_count": 121,
   "metadata": {
    "collapsed": false
   },
   "outputs": [],
   "source": [
    "# df_paied = df_amount[df_amount['MEANS']==u'预约成功后支付,预约后支付']\n",
    "# grouped_paied = df_paied.groupby(['USER_ID'])['AVG'].sum()\n",
    "# grouped_paied.sort_values(ascending=False)\n",
    "# pd.merge(df_amount.groupby(['USER_ID'])['AVG'].count(), df_amount.groupby(['USER_ID'])['AVG'].mean(), on='USER_ID')\n",
    "df_cnt = pd.DataFrame({'USER_ID':df_amount.groupby(['USER_ID'])['AVG'].count().index,'COUNT':df_amount.groupby(['USER_ID'])['AVG'].count()}, columns=['USER_ID','COUNT'])\n",
    "df_mean = pd.DataFrame({'USER_ID':df_amount.groupby(['USER_ID'])['AVG'].mean().index,'MEAN':df_amount.groupby(['USER_ID'])['AVG'].mean()}, columns=['USER_ID','MEAN'])\n",
    "df_merge = pd.merge(df_cnt, df_mean, on='USER_ID')\n",
    "sr_amount = df_merge.groupby(['MEAN'])['USER_ID'].count().sort_values(ascending=False)\n",
    "# sr_amount[sr_amount.index > 10].sum() #1279\n",
    "# sr_amount[sr_amount.index <=5].sum() #3203\n",
    "# sr_amount[sr_amount.index <= 10].sum() #4123\n",
    "# df_merge.groupby(['USER_ID'])['MEAN'].count().sum() #5402\n",
    "# df_merge.sort_values('COUNT', ascending=False)\n",
    "#########\n",
    "# sr_op_cnt = df_amount.groupby(['MEANS'])['VISIT_CNT'].sum()\n",
    "# sr_op_sum = df_amount.groupby(['MEANS'])['AVG'].sum()\n",
    "# sr_op_mean = sr_op_sum / sr_op_cnt\n",
    "# print sr_op_cnt, sr_op_sum, sr_op_mean\n",
    "#########\n",
    "# df_amount.sort_values('VISIT_CNT', ascending=False)"
   ]
  },
  {
   "cell_type": "code",
   "execution_count": null,
   "metadata": {
    "collapsed": true
   },
   "outputs": [],
   "source": []
  },
  {
   "cell_type": "code",
   "execution_count": null,
   "metadata": {
    "collapsed": true
   },
   "outputs": [],
   "source": [
    "conn.close()"
   ]
  }
 ],
 "metadata": {
  "kernelspec": {
   "display_name": "Python 2",
   "language": "python",
   "name": "python2"
  },
  "language_info": {
   "codemirror_mode": {
    "name": "ipython",
    "version": 2
   },
   "file_extension": ".py",
   "mimetype": "text/x-python",
   "name": "python",
   "nbconvert_exporter": "python",
   "pygments_lexer": "ipython2",
   "version": "2.7.10"
  }
 },
 "nbformat": 4,
 "nbformat_minor": 0
}
