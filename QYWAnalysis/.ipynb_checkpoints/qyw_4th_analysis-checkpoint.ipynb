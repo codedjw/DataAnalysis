{
 "cells": [
  {
   "cell_type": "code",
   "execution_count": 47,
   "metadata": {
    "collapsed": false
   },
   "outputs": [],
   "source": [
    "import matplotlib.pylab as plt, pandas as pd, MySQLdb\n",
    "from matplotlib import font_manager\n",
    "myFont = font_manager.FontProperties(fname='/Library/Fonts/Songti.ttc')\n",
    "titleSize = 14\n",
    "tipSize = 12"
   ]
  },
  {
   "cell_type": "code",
   "execution_count": 2,
   "metadata": {
    "collapsed": true
   },
   "outputs": [],
   "source": [
    "conn = MySQLdb.connect(host='localhost',user='root',passwd='',db='qyw', charset='utf8')"
   ]
  },
  {
   "cell_type": "code",
   "execution_count": null,
   "metadata": {
    "collapsed": false
   },
   "outputs": [],
   "source": [
    "df = pd.read_sql('''\n",
    "    SELECT PROVINCE, CITY, COUNT(DISTINCT USER_ID) AS USER_CNT FROM (SELECT * FROM (SELECT * FROM qyw.qyw_4th_visit WHERE USER_ID > 0 AND HOSPITAL_ID = 270001 ORDER BY USER_ID) AS t1 INNER JOIN (SELECT USER_ID AS CUS_ID, PROVINCE, CITY, BIRTHDAY, GENDER, REGISTER_DATE FROM qyw.qyw_4th_user ORDER BY CUS_ID) AS t2 ON t1.USER_ID = t2.CUS_ID) AS t3 WHERE PROVINCE IS NOT null AND CITY IS NOT null GROUP BY PROVINCE, CITY ORDER BY USER_CNT DESC;\n",
    "    ''', con=conn)"
   ]
  },
  {
   "cell_type": "code",
   "execution_count": null,
   "metadata": {
    "collapsed": true
   },
   "outputs": [],
   "source": [
    "province_city_cnt = pd.Series(df['USER_CNT'].values, index=df['PROVINCE']+' '+df['CITY'], name='用户地域分布')"
   ]
  },
  {
   "cell_type": "code",
   "execution_count": null,
   "metadata": {
    "collapsed": false
   },
   "outputs": [],
   "source": [
    "fig = plt.figure(dpi=100, figsize=(8,8))\n",
    "# first axes\n",
    "ax1 = fig.add_axes([0.1, 0.1, 0.8, 0.8])\n",
    "patches, texts, autotexts = ax1.pie(province_city_cnt[1:11], labels=province_city_cnt[1:11].index, autopct='%1.1f%%', colors=['yellowgreen', 'gold', 'lightskyblue', 'lightcoral'])\n",
    "plt.setp(autotexts, fontproperties=myFont, size=tipSize)\n",
    "plt.setp(texts, fontproperties=myFont, size=tipSize)\n",
    "ax1.set_title(u'用户地域分布（第二位至第十一位）',fontproperties=myFont, size=titleSize)\n",
    "ax1.set_aspect(1)\n",
    "plt.show()"
   ]
  },
  {
   "cell_type": "code",
   "execution_count": null,
   "metadata": {
    "collapsed": true
   },
   "outputs": [],
   "source": [
    "df_all = pd.read_sql('''\n",
    "SELECT HOSPITAL_ID, PROVINCE, CITY, COUNT(DISTINCT USER_ID) AS USER_CNT FROM (SELECT * FROM (SELECT * FROM qyw.qyw_4th_visit WHERE USER_ID > 0 ORDER BY USER_ID) AS t1 INNER JOIN (SELECT USER_ID AS CUS_ID, PROVINCE, CITY, BIRTHDAY, GENDER, REGISTER_DATE FROM qyw.qyw_4th_user ORDER BY CUS_ID) AS t2 ON t1.USER_ID = t2.CUS_ID) AS t3 WHERE PROVINCE IS NOT null AND CITY IS NOT null GROUP BY HOSPITAL_ID, PROVINCE, CITY ORDER BY HOSPITAL_ID, USER_CNT DESC;\n",
    "''', con=conn)"
   ]
  },
  {
   "cell_type": "code",
   "execution_count": null,
   "metadata": {
    "collapsed": false
   },
   "outputs": [],
   "source": [
    "pd.DataFrame(df_all.groupby(['PROVINCE', 'CITY'])['USER_CNT'].sum()).reset_index().sort_values(['USER_CNT'],0,[False])"
   ]
  },
  {
   "cell_type": "code",
   "execution_count": null,
   "metadata": {
    "collapsed": false
   },
   "outputs": [],
   "source": [
    "df_new = df_all.groupby(['HOSPITAL_ID','PROVINCE'])['USER_CNT'].sum().reset_index().sort_values(['PROVINCE','HOSPITAL_ID'],0,[True, False])\n",
    "df_new = pd.merge(df_new[df_new['PROVINCE']!=u'安徽'], df_new[df_new['PROVINCE']!=u'湖北'])\n",
    "# useless below\n",
    "# array_province = df_new['PROVINCE'].drop_duplicates().values\n",
    "# hospitals = [{270001:u'武汉市中心医院'}, {5510002:u'安徽省中医院'}]\n",
    "# hos_cnts = {270001:[], 5510002:[]}\n",
    "# for hospital in hospitals:\n",
    "#     for hid, hname in hospital.items():\n",
    "#         for province in array_province:\n",
    "#             if df_new[df_new['HOSPITAL_ID']==hid]['PROVINCE'] == None:\n",
    "#                 hos_cnts[hid].append(0)\n",
    "#             else:\n",
    "#                 hos_cnts[hid].append(df_new[df_new['HOSPITAL_ID']==hid]['PROVINCE'])\n",
    "# print hos_cnts\n",
    "# useless above\n",
    "df_new_pivot = df_new.pivot('PROVINCE', 'HOSPITAL_ID', 'USER_CNT') # equal to above\n",
    "df_new_pivot = df_new_pivot.fillna(0)\n",
    "\n",
    "import numpy as np\n",
    "import matplotlib.pyplot as plt\n",
    "\n",
    "\n",
    "n_groups = df_new_pivot.index.size\n",
    "\n",
    "hid_270001 = df_new_pivot[270001]\n",
    "\n",
    "hid_5510002 = df_new_pivot[5510002]\n",
    "\n",
    "fig, ax = plt.subplots(dpi=100, figsize=(14,8))\n",
    "\n",
    "index = np.arange(n_groups)\n",
    "bar_width = 0.35\n",
    "\n",
    "opacity = 0.4\n",
    "error_config = {'ecolor': '0.3'}\n",
    "\n",
    "rects1 = plt.bar(index, hid_270001, bar_width,\n",
    "                 alpha=opacity,\n",
    "                 color='b',\n",
    "                 error_kw=error_config,\n",
    "                 label=u'武汉市中心医院')\n",
    "    \n",
    "rects2 = plt.bar(index + bar_width, hid_5510002, bar_width,\n",
    "                 alpha=opacity,\n",
    "                 color='r',\n",
    "                 error_kw=error_config,\n",
    "                 label=u'安徽省中医院')\n",
    "\n",
    "plt.xlabel(u'省份', fontproperties=myFont, size=titleSize)\n",
    "plt.ylabel(u'用户数量', fontproperties=myFont, size=titleSize)\n",
    "plt.title(u'用户地域分布', fontproperties=myFont, size=titleSize)\n",
    "plt.xticks(index + bar_width, df_new_pivot.index, fontproperties=myFont, size=tipSize)\n",
    "plt.legend(prop=font_manager.FontProperties(fname='/Library/Fonts/Songti.ttc', size=tipSize))\n",
    "\n",
    "def autolabel(rects):\n",
    "    # attach some text labels\n",
    "    for rect in rects:\n",
    "        height = rect.get_height()\n",
    "        ax.text(rect.get_x() + rect.get_width()/2., 1.005*height,\n",
    "                '%d' % int(height),\n",
    "                ha='center', va='bottom', fontproperties=myFont, size=tipSize)\n",
    "\n",
    "autolabel(rects1)\n",
    "autolabel(rects2)\n",
    "\n",
    "plt.tight_layout()\n",
    "plt.show()"
   ]
  },
  {
   "cell_type": "code",
   "execution_count": 3,
   "metadata": {
    "collapsed": true
   },
   "outputs": [],
   "source": [
    "df_mhs = pd.read_sql('''\n",
    "    SELECT CONCAT_WS(':',SUBSTRING_INDEX(SUBSTRING_INDEX(VISIT_TIME,' ',-1),':',2),'00') AS VISIT_TIME, COUNT(*) AS OP_CNT FROM qyw.qyw_4th_visit GROUP BY SUBSTRING_INDEX(SUBSTRING_INDEX(VISIT_TIME,' ',-1),':',2) ORDER BY VISIT_TIME;\n",
    "    ''', con=conn)"
   ]
  },
  {
   "cell_type": "code",
   "execution_count": 50,
   "metadata": {
    "collapsed": false
   },
   "outputs": [
    {
     "name": "stdout",
     "output_type": "stream",
     "text": [
      "VISIT_TIME\n",
      "00:00:00    154\n",
      "00:01:00    161\n",
      "00:02:00    191\n",
      "00:03:00    255\n",
      "00:04:00    203\n",
      "00:05:00    159\n",
      "00:06:00    137\n",
      "00:07:00    120\n",
      "00:08:00     99\n",
      "00:09:00     91\n",
      "00:10:00     67\n",
      "00:11:00     60\n",
      "00:12:00     60\n",
      "00:13:00     32\n",
      "00:14:00     49\n",
      "00:15:00     49\n",
      "00:16:00     40\n",
      "00:17:00     40\n",
      "00:18:00     37\n",
      "00:19:00     27\n",
      "00:20:00     24\n",
      "00:21:00     28\n",
      "00:22:00     31\n",
      "00:23:00     25\n",
      "00:24:00     23\n",
      "00:25:00      8\n",
      "00:26:00     17\n",
      "00:27:00     25\n",
      "00:28:00     23\n",
      "00:29:00     13\n",
      "           ... \n",
      "23:30:00     33\n",
      "23:31:00     16\n",
      "23:32:00     20\n",
      "23:33:00     27\n",
      "23:34:00     28\n",
      "23:35:00     17\n",
      "23:36:00     26\n",
      "23:37:00     31\n",
      "23:38:00     18\n",
      "23:39:00     19\n",
      "23:40:00     29\n",
      "23:41:00     22\n",
      "23:42:00     25\n",
      "23:43:00     25\n",
      "23:44:00     15\n",
      "23:45:00     20\n",
      "23:46:00     19\n",
      "23:47:00     27\n",
      "23:48:00     25\n",
      "23:49:00     15\n",
      "23:50:00     16\n",
      "23:51:00     29\n",
      "23:52:00     14\n",
      "23:53:00     22\n",
      "23:54:00     24\n",
      "23:55:00     26\n",
      "23:56:00     25\n",
      "23:57:00     31\n",
      "23:58:00     52\n",
      "23:59:00     59\n",
      "Name: 日均操作时间分布, dtype: int64\n"
     ]
    }
   ],
   "source": [
    "df_mhs_series = pd.Series(df_mhs['OP_CNT'].values/7, index=df_mhs['VISIT_TIME'], name=u'日均操作时间分布')\n",
    "df_mhs_series.index.name = u'操作时间'\n",
    "ax = df_mhs_series.plot(figsize=(14,8))\n",
    "for label in ax.get_xticklabels(): #xtick\n",
    "    label.set_fontproperties(myFont)\n",
    "for label in ax.get_yticklabels(): #ytick\n",
    "    label.set_fontproperties(myFont)\n",
    "for label in ax.get_label(): # legend\n",
    "    label.set_fontproperties(myFont)\n",
    "ax.set_title(df_mhs_series.name, fontproperties=myFont, size=titleSize)\n",
    "ax.set_xlabel(df_mhs_series.index.name, fontproperties=myFont, size=tipSize)\n",
    "ax.set_ylabel(u'操作数量', fontproperties=myFont, size=tipSize)\n",
    "plt.show()"
   ]
  },
  {
   "cell_type": "code",
   "execution_count": null,
   "metadata": {
    "collapsed": true
   },
   "outputs": [],
   "source": [
    "conn.close()"
   ]
  }
 ],
 "metadata": {
  "kernelspec": {
   "display_name": "Python 2",
   "language": "python",
   "name": "python2"
  },
  "language_info": {
   "codemirror_mode": {
    "name": "ipython",
    "version": 2
   },
   "file_extension": ".py",
   "mimetype": "text/x-python",
   "name": "python",
   "nbconvert_exporter": "python",
   "pygments_lexer": "ipython2",
   "version": "2.7.10"
  }
 },
 "nbformat": 4,
 "nbformat_minor": 0
}
