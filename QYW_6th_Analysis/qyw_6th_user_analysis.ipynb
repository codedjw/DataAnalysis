{
 "cells": [
  {
   "cell_type": "code",
   "execution_count": 1,
   "metadata": {
    "collapsed": true
   },
   "outputs": [],
   "source": [
    "import pandas as pd, MySQLdb\n",
    "import datetime"
   ]
  },
  {
   "cell_type": "code",
   "execution_count": 2,
   "metadata": {
    "collapsed": true
   },
   "outputs": [],
   "source": [
    "conn = MySQLdb.connect(host='localhost',user='root',passwd='',db='qyw', charset='utf8')"
   ]
  },
  {
   "cell_type": "code",
   "execution_count": 3,
   "metadata": {
    "collapsed": false
   },
   "outputs": [],
   "source": [
    "df_new_user = pd.read_sql('''\n",
    "    SELECT * FROM qyw_4th_event_new_user;\n",
    "    ''',\n",
    "    con=conn)\n",
    "df_old_user = pd.read_sql('''\n",
    "    SELECT * FROM qyw_4th_event_old_user;\n",
    "    ''',\n",
    "    con=conn)"
   ]
  },
  {
   "cell_type": "code",
   "execution_count": 4,
   "metadata": {
    "collapsed": false
   },
   "outputs": [],
   "source": [
    "import datetime\n",
    "df_new_user['VISIT_TIME'] = df_new_user['VISIT_TIME'].apply(lambda x: datetime.date(x.year,x.month,x.day))\n",
    "df_old_user['VISIT_TIME'] = df_old_user['VISIT_TIME'].apply(lambda x: datetime.date(x.year,x.month,x.day))"
   ]
  },
  {
   "cell_type": "code",
   "execution_count": 5,
   "metadata": {
    "collapsed": false
   },
   "outputs": [],
   "source": [
    "df_new_user_ops = pd.DataFrame(df_new_user.groupby(['VISIT_TIME']).CASE_ID.agg(lambda x: len(x)))\n",
    "df_new_user_cnt = pd.DataFrame( df_new_user.groupby(['VISIT_TIME']).USER_ID.nunique())\n",
    "df_old_user_ops = pd.DataFrame(df_old_user.groupby(['VISIT_TIME']).CASE_ID.agg(lambda x: len(x)))\n",
    "df_old_user_cnt = pd.DataFrame( df_old_user.groupby(['VISIT_TIME']).USER_ID.nunique())"
   ]
  },
  {
   "cell_type": "code",
   "execution_count": 6,
   "metadata": {
    "collapsed": false
   },
   "outputs": [],
   "source": [
    "df_new_user_ops = df_new_user_ops.rename(columns={\"CASE_ID\": \"新用户操作记录数\"})\n",
    "df_old_user_ops = df_old_user_ops.rename(columns={\"CASE_ID\": \"老用户操作记录数\"})\n",
    "df_new_user_cnt = df_new_user_cnt.rename(columns={\"USER_ID\": \"新用户在线用户数\"})\n",
    "df_old_user_cnt = df_old_user_cnt.rename(columns={\"USER_ID\": \"老用户在线用户数\"})"
   ]
  },
  {
   "cell_type": "code",
   "execution_count": 7,
   "metadata": {
    "collapsed": false,
    "scrolled": true
   },
   "outputs": [
    {
     "data": {
      "text/html": [
       "<div>\n",
       "<table border=\"1\" class=\"dataframe\">\n",
       "  <thead>\n",
       "    <tr style=\"text-align: right;\">\n",
       "      <th></th>\n",
       "      <th>新用户操作记录数</th>\n",
       "      <th>老用户操作记录数</th>\n",
       "      <th>新用户在线用户数</th>\n",
       "      <th>老用户在线用户数</th>\n",
       "    </tr>\n",
       "    <tr>\n",
       "      <th>VISIT_TIME</th>\n",
       "      <th></th>\n",
       "      <th></th>\n",
       "      <th></th>\n",
       "      <th></th>\n",
       "    </tr>\n",
       "  </thead>\n",
       "  <tbody>\n",
       "    <tr>\n",
       "      <th>2016-03-08</th>\n",
       "      <td>8718</td>\n",
       "      <td>24033</td>\n",
       "      <td>198</td>\n",
       "      <td>676</td>\n",
       "    </tr>\n",
       "    <tr>\n",
       "      <th>2016-03-09</th>\n",
       "      <td>10252</td>\n",
       "      <td>26304</td>\n",
       "      <td>226</td>\n",
       "      <td>739</td>\n",
       "    </tr>\n",
       "    <tr>\n",
       "      <th>2016-03-10</th>\n",
       "      <td>8669</td>\n",
       "      <td>24595</td>\n",
       "      <td>189</td>\n",
       "      <td>696</td>\n",
       "    </tr>\n",
       "    <tr>\n",
       "      <th>2016-03-11</th>\n",
       "      <td>7637</td>\n",
       "      <td>25754</td>\n",
       "      <td>200</td>\n",
       "      <td>765</td>\n",
       "    </tr>\n",
       "    <tr>\n",
       "      <th>2016-03-12</th>\n",
       "      <td>7781</td>\n",
       "      <td>19411</td>\n",
       "      <td>174</td>\n",
       "      <td>586</td>\n",
       "    </tr>\n",
       "    <tr>\n",
       "      <th>2016-03-13</th>\n",
       "      <td>6412</td>\n",
       "      <td>17475</td>\n",
       "      <td>141</td>\n",
       "      <td>538</td>\n",
       "    </tr>\n",
       "    <tr>\n",
       "      <th>2016-03-14</th>\n",
       "      <td>9253</td>\n",
       "      <td>37106</td>\n",
       "      <td>198</td>\n",
       "      <td>1116</td>\n",
       "    </tr>\n",
       "    <tr>\n",
       "      <th>2016-03-15</th>\n",
       "      <td>9390</td>\n",
       "      <td>33846</td>\n",
       "      <td>210</td>\n",
       "      <td>898</td>\n",
       "    </tr>\n",
       "  </tbody>\n",
       "</table>\n",
       "</div>"
      ],
      "text/plain": [
       "            新用户操作记录数  老用户操作记录数  新用户在线用户数  老用户在线用户数\n",
       "VISIT_TIME                                        \n",
       "2016-03-08      8718     24033       198       676\n",
       "2016-03-09     10252     26304       226       739\n",
       "2016-03-10      8669     24595       189       696\n",
       "2016-03-11      7637     25754       200       765\n",
       "2016-03-12      7781     19411       174       586\n",
       "2016-03-13      6412     17475       141       538\n",
       "2016-03-14      9253     37106       198      1116\n",
       "2016-03-15      9390     33846       210       898"
      ]
     },
     "execution_count": 7,
     "metadata": {},
     "output_type": "execute_result"
    }
   ],
   "source": [
    "df_new_user_ops['VISIT_TIME']=df_new_user_ops.index;\n",
    "df_old_user_ops['VISIT_TIME']=df_old_user_ops.index;\n",
    "df_new_user_cnt['VISIT_TIME']=df_new_user_cnt.index;\n",
    "df_old_user_cnt['VISIT_TIME']=df_old_user_cnt.index;\n",
    "df_user = pd.merge(df_new_user_ops, df_old_user_ops, on='VISIT_TIME')\n",
    "df_user = pd.merge(df_user, df_new_user_cnt, on='VISIT_TIME')\n",
    "df_user = pd.merge(df_user, df_old_user_cnt, on='VISIT_TIME')\n",
    "df_user.index = df_user['VISIT_TIME']\n",
    "del df_user['VISIT_TIME']\n",
    "# df_user = df_user.transpose()\n",
    "# df_user.columns\n",
    "# df_user.index\n",
    "df_user"
   ]
  },
  {
   "cell_type": "code",
   "execution_count": 14,
   "metadata": {
    "collapsed": true
   },
   "outputs": [],
   "source": [
    "df_user_new_cat = pd.read_sql('''\n",
    "    SELECT CATEGORY, COUNT(DISTINCT USER_ID) FROM (SELECT * FROM qyw_4th_event_new_user ORDER BY VISIT_MEAN) AS t1 INNER JOIN (SELECT * FROM qyw_4th_business_dict ORDER BY MEAN) AS t2 ON t1.VISIT_MEAN = t2.MEAN GROUP BY CATEGORY;\n",
    "    ''',\n",
    "    con=conn)\n",
    "df_user_old_cat = pd.read_sql('''\n",
    "    SELECT CATEGORY, COUNT(DISTINCT USER_ID) FROM (SELECT * FROM qyw_4th_event_old_user ORDER BY VISIT_MEAN) AS t1 INNER JOIN (SELECT * FROM qyw_4th_business_dict ORDER BY MEAN) AS t2 ON t1.VISIT_MEAN = t2.MEAN GROUP BY CATEGORY;\n",
    "    ''',\n",
    "    con=conn)"
   ]
  },
  {
   "cell_type": "code",
   "execution_count": 15,
   "metadata": {
    "collapsed": false
   },
   "outputs": [],
   "source": [
    "df_user_new_cat = df_user_new_cat.rename(columns={\"COUNT(DISTINCT USER_ID)\": \"新用户数\", \"CATEGORY\":\"业务类型\"})\n",
    "df_user_old_cat = df_user_old_cat.rename(columns={\"COUNT(DISTINCT USER_ID)\": \"老用户数\", \"CATEGORY\":\"业务类型\"})"
   ]
  },
  {
   "cell_type": "code",
   "execution_count": null,
   "metadata": {
    "collapsed": false
   },
   "outputs": [],
   "source": [
    "# df_new_user_ops = df_new_user_ops.transpose()\n",
    "# df_old_user_ops = df_old_user_ops.transpose()\n",
    "# df_new_user_cnt = df_new_user_cnt.transpose()\n",
    "# df_old_user_cnt = df_old_user_cnt.transpose()"
   ]
  },
  {
   "cell_type": "code",
   "execution_count": null,
   "metadata": {
    "collapsed": false
   },
   "outputs": [],
   "source": [
    "# print df_new_user_ops\n",
    "# print df_old_user_ops\n",
    "# print df_new_user_cnt\n",
    "# print df_old_user_cnt"
   ]
  },
  {
   "cell_type": "code",
   "execution_count": 18,
   "metadata": {
    "collapsed": false
   },
   "outputs": [],
   "source": [
    "df_user_cat = pd.merge(df_user_new_cat, df_user_old_cat, on='业务类型', how='outer')"
   ]
  },
  {
   "cell_type": "code",
   "execution_count": 20,
   "metadata": {
    "collapsed": false
   },
   "outputs": [
    {
     "data": {
      "text/html": [
       "<div>\n",
       "<table border=\"1\" class=\"dataframe\">\n",
       "  <thead>\n",
       "    <tr style=\"text-align: right;\">\n",
       "      <th></th>\n",
       "      <th>业务类型</th>\n",
       "      <th>新用户数</th>\n",
       "      <th>老用户数</th>\n",
       "    </tr>\n",
       "  </thead>\n",
       "  <tbody>\n",
       "    <tr>\n",
       "      <th>0</th>\n",
       "      <td>公共</td>\n",
       "      <td>1536</td>\n",
       "      <td>3616</td>\n",
       "    </tr>\n",
       "    <tr>\n",
       "      <th>1</th>\n",
       "      <td>医院参数</td>\n",
       "      <td>1468</td>\n",
       "      <td>3496</td>\n",
       "    </tr>\n",
       "    <tr>\n",
       "      <th>2</th>\n",
       "      <td>就医指南</td>\n",
       "      <td>48</td>\n",
       "      <td>247</td>\n",
       "    </tr>\n",
       "    <tr>\n",
       "      <th>3</th>\n",
       "      <td>我的报告单</td>\n",
       "      <td>1</td>\n",
       "      <td>6</td>\n",
       "    </tr>\n",
       "    <tr>\n",
       "      <th>4</th>\n",
       "      <td>我的账单</td>\n",
       "      <td>1</td>\n",
       "      <td>3</td>\n",
       "    </tr>\n",
       "    <tr>\n",
       "      <th>5</th>\n",
       "      <td>我的退款</td>\n",
       "      <td>8</td>\n",
       "      <td>49</td>\n",
       "    </tr>\n",
       "    <tr>\n",
       "      <th>6</th>\n",
       "      <td>消息</td>\n",
       "      <td>729</td>\n",
       "      <td>1129</td>\n",
       "    </tr>\n",
       "    <tr>\n",
       "      <th>7</th>\n",
       "      <td>系统架构</td>\n",
       "      <td>9</td>\n",
       "      <td>77</td>\n",
       "    </tr>\n",
       "    <tr>\n",
       "      <th>8</th>\n",
       "      <td>门诊业务</td>\n",
       "      <td>74</td>\n",
       "      <td>242</td>\n",
       "    </tr>\n",
       "    <tr>\n",
       "      <th>9</th>\n",
       "      <td>预约挂号</td>\n",
       "      <td>1536</td>\n",
       "      <td>3619</td>\n",
       "    </tr>\n",
       "    <tr>\n",
       "      <th>10</th>\n",
       "      <td>住院业务</td>\n",
       "      <td>0</td>\n",
       "      <td>2</td>\n",
       "    </tr>\n",
       "  </tbody>\n",
       "</table>\n",
       "</div>"
      ],
      "text/plain": [
       "     业务类型  新用户数  老用户数\n",
       "0      公共  1536  3616\n",
       "1    医院参数  1468  3496\n",
       "2    就医指南    48   247\n",
       "3   我的报告单     1     6\n",
       "4    我的账单     1     3\n",
       "5    我的退款     8    49\n",
       "6      消息   729  1129\n",
       "7    系统架构     9    77\n",
       "8    门诊业务    74   242\n",
       "9    预约挂号  1536  3619\n",
       "10   住院业务     0     2"
      ]
     },
     "execution_count": 20,
     "metadata": {},
     "output_type": "execute_result"
    }
   ],
   "source": [
    "df_user_cat.fillna(0)"
   ]
  },
  {
   "cell_type": "code",
   "execution_count": null,
   "metadata": {
    "collapsed": true
   },
   "outputs": [],
   "source": []
  }
 ],
 "metadata": {
  "kernelspec": {
   "display_name": "Python 2",
   "language": "python",
   "name": "python2"
  },
  "language_info": {
   "codemirror_mode": {
    "name": "ipython",
    "version": 2
   },
   "file_extension": ".py",
   "mimetype": "text/x-python",
   "name": "python",
   "nbconvert_exporter": "python",
   "pygments_lexer": "ipython2",
   "version": "2.7.10"
  }
 },
 "nbformat": 4,
 "nbformat_minor": 0
}
